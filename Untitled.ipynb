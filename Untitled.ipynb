{
 "cells": [
  {
   "cell_type": "code",
   "execution_count": null,
   "id": "c05e77df",
   "metadata": {},
   "outputs": [],
   "source": [
    "import requests\n",
    "from bs4 import BeautifulSoup\n",
    "import pandas as pd"
   ]
  },
  {
   "cell_type": "markdown",
   "id": "4e02f903",
   "metadata": {},
   "source": [
    "### 2023 NBA MVP CANDIDATES"
   ]
  },
  {
   "cell_type": "code",
   "execution_count": null,
   "id": "cf1f5156",
   "metadata": {},
   "outputs": [],
   "source": [
    "url = 'https://www.nba.com/news/kia-mvp-ladder-jan-21-2022-edition'\n",
    "html = requests.get(url).content\n",
    "\n",
    "soup = BeautifulSoup(html)\n",
    "remove_line = 'Last week’s ranking'\n",
    "remove_line2 = 'ET'\n",
    "remove_line3 = 'The Next Five'\n",
    "\n",
    "top_five = []\n",
    "next_five = [] \n",
    "\n",
    "for line in soup.find_all(\"strong\")[1:-1]:\n",
    "    if remove_line not in str(line):\n",
    "        if remove_line2 not in str(line):\n",
    "            if remove_line3 not in str(line):\n",
    "                name_raw = str(line).split(',')[0]\n",
    "                name_raw = name_raw.split('.')[1]\n",
    "                name = name_raw[1:]\n",
    "                top_five.append(name)\n",
    "\n",
    "for line in soup.find_all(\"p\"):\n",
    "    if 'week: ' in str(line):\n",
    "        name_raw = str(line).split(',')[0]\n",
    "        name_raw = name_raw.split('.')[1]\n",
    "        name = name_raw[1:]\n",
    "        #name = name.split('>')[1][1:]\n",
    "        next_five.append(name)\n",
    "    \n",
    "top_ten = top_five + next_five"
   ]
  },
  {
   "cell_type": "code",
   "execution_count": null,
   "id": "d7cc649f",
   "metadata": {},
   "outputs": [],
   "source": [
    "top_ten"
   ]
  },
  {
   "cell_type": "code",
   "execution_count": null,
   "id": "5999a74f",
   "metadata": {},
   "outputs": [],
   "source": [
    "url = 'https://www.basketball-reference.com/leagues/NBA_{}_per_game.html'.format(year)\n",
    "   \n",
    "r = requests.get(url)\n",
    "r_html = r.text\n",
    "soup = BeautifulSoup(r_html,'html.parser')"
   ]
  },
  {
   "cell_type": "code",
   "execution_count": null,
   "id": "1389202f",
   "metadata": {},
   "outputs": [],
   "source": [
    "table=soup.find_all(class_=\"full_table\")\n",
    "    \n",
    "\"\"\" Extracting List of column names\"\"\"\n",
    "head=soup.find(class_=\"thead\")\n",
    "column_names_raw=[head.text for item in head][0]\n",
    "column_names_polished=column_names_raw.replace(\"\\n\",\",\").split(\",\")[2:-1]\n",
    "print(column_names_polished)\n",
    "['Player',\n",
    " 'Pos',\n",
    " 'Age',\n",
    " 'Tm',\n",
    " 'G',\n",
    " 'GS',\n",
    " 'MP',\n",
    " 'FG',\n",
    " 'FGA',\n",
    " 'FG%',\n",
    " '3P',\n",
    " '3PA',\n",
    " '3P%',\n",
    " '2P',\n",
    " '2PA',\n",
    " '2P%',\n",
    " 'eFG%',\n",
    " 'FT',\n",
    " 'FTA',\n",
    " 'FT%',\n",
    " 'ORB',\n",
    " 'DRB',\n",
    " 'TRB',\n",
    " 'AST',\n",
    " 'STL',\n",
    " 'BLK',\n",
    " 'TOV',\n",
    " 'PF',\n",
    " 'PTS']"
   ]
  },
  {
   "cell_type": "code",
   "execution_count": null,
   "id": "e76cd91a",
   "metadata": {},
   "outputs": [],
   "source": [
    "players=[]\n",
    "    \n",
    "for i in range(len(table)):\n",
    "        \n",
    "        player_=[]\n",
    "        \n",
    "        for td in table[i].find_all(\"td\"):\n",
    "            player_.append(td.text)\n",
    "    \n",
    "        players.append(player_)\n",
    "df=pd.DataFrame(players, columns=column_names_polished)\n",
    "\n",
    "df"
   ]
  },
  {
   "cell_type": "code",
   "execution_count": 90,
   "id": "c7eb696c",
   "metadata": {},
   "outputs": [],
   "source": [
    "df.to_csv(r'\\NBA__players_stats_2023.csv', index=False)\n"
   ]
  },
  {
   "cell_type": "code",
   "execution_count": null,
   "id": "57265e89",
   "metadata": {},
   "outputs": [],
   "source": []
  },
  {
   "cell_type": "code",
   "execution_count": null,
   "id": "69a2663a",
   "metadata": {},
   "outputs": [],
   "source": []
  },
  {
   "cell_type": "code",
   "execution_count": null,
   "id": "6918e814",
   "metadata": {},
   "outputs": [],
   "source": []
  }
 ],
 "metadata": {
  "kernelspec": {
   "display_name": "Python 3 (ipykernel)",
   "language": "python",
   "name": "python3"
  },
  "language_info": {
   "codemirror_mode": {
    "name": "ipython",
    "version": 3
   },
   "file_extension": ".py",
   "mimetype": "text/x-python",
   "name": "python",
   "nbconvert_exporter": "python",
   "pygments_lexer": "ipython3",
   "version": "3.9.12"
  }
 },
 "nbformat": 4,
 "nbformat_minor": 5
}
